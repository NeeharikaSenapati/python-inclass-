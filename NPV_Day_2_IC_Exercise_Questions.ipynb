{
 "cells": [
  {
   "cell_type": "markdown",
   "metadata": {
    "id": "kic6oK53broE"
   },
   "source": [
    "<table align=\"left\" width=100%>\n",
    "    <tr>\n",
    "        <td width=\"10%\">\n",
    "            <img src=\"GL-2.png\">\n",
    "        </td>\n",
    "        <td>\n",
    "            <div align=\"center\">\n",
    "                <font color=\"#21618C\" size=8px>\n",
    "                    <b>Inclass - Lab<br> (Day 2)\n",
    "                    </b>\n",
    "                </font>\n",
    "            </div>\n",
    "        </td>\n",
    "    </tr>\n",
    "</table>"
   ]
  },
  {
   "cell_type": "markdown",
   "metadata": {
    "id": "oe1s0Kh3broG"
   },
   "source": [
    "## Table of Content\n",
    "1. **[Data Structures with Examples](#Data_Structures)**\n",
    "2. **[Create and Manipulate the DataFrames](#create_manipulate)**\n",
    "3. **[Sort](#sorting)**\n",
    "4. **[Rank](#ranking)**"
   ]
  },
  {
   "cell_type": "markdown",
   "metadata": {
    "id": "JlJ7Wtw-broG"
   },
   "source": [
    "### Let's begin with some hands-on practice exercises"
   ]
  },
  {
   "cell_type": "markdown",
   "metadata": {
    "id": "26XpOEYEbroH"
   },
   "source": [
    "<a id='Data_Structures'></a>\n",
    "## 1. Data Structures with Examples:"
   ]
  },
  {
   "cell_type": "markdown",
   "metadata": {
    "id": "Rj8q582cbroI"
   },
   "source": [
    "<table align=\"left\">\n",
    "    <tr>\n",
    "        <td width=\"6%\">\n",
    "            <img src=\"question_icon.png\">\n",
    "        </td>\n",
    "        <td>\n",
    "            <div align=\"left\", style=\"font-size:120%\">\n",
    "                <font color=\"#21618C\">\n",
    "                    <b>1. Write a program to create a dataframe from list of lists\n",
    "</b>\n",
    "                </font>\n",
    "            </div>\n",
    "        </td>\n",
    "    </tr>\n",
    "</table>"
   ]
  },
  {
   "cell_type": "markdown",
   "metadata": {
    "id": "PzHrJnNRbroJ"
   },
   "source": [
    "**Use the below nested list:**<br>\n",
    "\n",
    "        data = [['Joy', 21], ['Mia', 15], ['Sam', 14]]"
   ]
  },
  {
   "cell_type": "code",
   "execution_count": 6,
   "metadata": {
    "id": "yOGk37kZ7Isg"
   },
   "outputs": [
    {
     "data": {
      "text/html": [
       "<div>\n",
       "<style scoped>\n",
       "    .dataframe tbody tr th:only-of-type {\n",
       "        vertical-align: middle;\n",
       "    }\n",
       "\n",
       "    .dataframe tbody tr th {\n",
       "        vertical-align: top;\n",
       "    }\n",
       "\n",
       "    .dataframe thead th {\n",
       "        text-align: right;\n",
       "    }\n",
       "</style>\n",
       "<table border=\"1\" class=\"dataframe\">\n",
       "  <thead>\n",
       "    <tr style=\"text-align: right;\">\n",
       "      <th></th>\n",
       "      <th>0</th>\n",
       "      <th>1</th>\n",
       "    </tr>\n",
       "  </thead>\n",
       "  <tbody>\n",
       "    <tr>\n",
       "      <th>0</th>\n",
       "      <td>Joy</td>\n",
       "      <td>21</td>\n",
       "    </tr>\n",
       "    <tr>\n",
       "      <th>1</th>\n",
       "      <td>Mia</td>\n",
       "      <td>15</td>\n",
       "    </tr>\n",
       "    <tr>\n",
       "      <th>2</th>\n",
       "      <td>Sam</td>\n",
       "      <td>14</td>\n",
       "    </tr>\n",
       "  </tbody>\n",
       "</table>\n",
       "</div>"
      ],
      "text/plain": [
       "     0   1\n",
       "0  Joy  21\n",
       "1  Mia  15\n",
       "2  Sam  14"
      ]
     },
     "execution_count": 6,
     "metadata": {},
     "output_type": "execute_result"
    }
   ],
   "source": [
    "import pandas as pd\n",
    "data = [['Joy', 21], ['Mia', 15], ['Sam', 14]]\n",
    "d1=pd.DataFrame(data)\n",
    "d1"
   ]
  },
  {
   "cell_type": "markdown",
   "metadata": {
    "id": "GTblkct8broO"
   },
   "source": [
    "<table align=\"left\">\n",
    "    <tr>\n",
    "        <td width=\"6%\">\n",
    "            <img src=\"question_icon.png\">\n",
    "        </td>\n",
    "        <td>\n",
    "            <div align=\"left\", style=\"font-size:120%\">\n",
    "                <font color=\"#21618C\">\n",
    "                    <b>2. Extract the second word from the given string\n",
    "</b>\n",
    "                </font>\n",
    "            </div>\n",
    "        </td>\n",
    "    </tr>\n",
    "</table>"
   ]
  },
  {
   "cell_type": "markdown",
   "metadata": {
    "id": "wqAJ6qeKbroO"
   },
   "source": [
    "**Use the below string:**<br>\n",
    "    \n",
    "    sentence = 'Be confident and be yourself'"
   ]
  },
  {
   "cell_type": "code",
   "execution_count": 45,
   "metadata": {
    "id": "jmH9Erdm7Isi"
   },
   "outputs": [
    {
     "data": {
      "text/plain": [
       "'confident'"
      ]
     },
     "execution_count": 45,
     "metadata": {},
     "output_type": "execute_result"
    }
   ],
   "source": [
    "sentence = 'Be confident and be yourself'\n",
    "sentence.split()[1]"
   ]
  },
  {
   "cell_type": "markdown",
   "metadata": {
    "id": "Es6zyYS5broR"
   },
   "source": [
    "<a id='create_manipulate'></a>\n",
    "## 2. Create and Manipulate the DataFrames:"
   ]
  },
  {
   "cell_type": "markdown",
   "metadata": {
    "id": "N45T_7y0broS"
   },
   "source": [
    "<table align=\"left\">\n",
    "    <tr>\n",
    "        <td width=\"6%\">\n",
    "            <img src=\"question_icon.png\">\n",
    "        </td>\n",
    "        <td>\n",
    "            <div align=\"left\", style=\"font-size:120%\">\n",
    "                <font color=\"#21618C\">\n",
    "                    <b>3. Split the 'Name' column into two separate columns as First_Name and Last_Name </b>\n",
    "                </font>\n",
    "            </div>\n",
    "        </td>\n",
    "    </tr>\n",
    "</table>"
   ]
  },
  {
   "cell_type": "markdown",
   "metadata": {
    "id": "cqJ5X7DrbroS"
   },
   "source": [
    "**Use the dataframe given below:**\n",
    "\n",
    "<table>\n",
    "<tr>\n",
    "<th>Name</th>\n",
    "<th>Salary</th>\n",
    "</tr>\n",
    "<tr>\n",
    "<td>Emma Larter</td>\n",
    "<td>3200</td>\n",
    "</tr>\n",
    "<tr>\n",
    "<td>Mia Junior</td>\n",
    "<td>4500</td>\n",
    "</tr>\n",
    "<tr>\n",
    "<td>Sophia Depp</td>\n",
    "<td>3600</td>\n",
    "</tr>\n",
    "<tr>\n",
    "<td>James Smith</td>\n",
    "<td>5596</td>\n",
    "</tr>\n",
    "   \n",
    "</table>"
   ]
  },
  {
   "cell_type": "code",
   "execution_count": 21,
   "metadata": {
    "id": "G3PX4ISj7Isj"
   },
   "outputs": [
    {
     "data": {
      "text/html": [
       "<div>\n",
       "<style scoped>\n",
       "    .dataframe tbody tr th:only-of-type {\n",
       "        vertical-align: middle;\n",
       "    }\n",
       "\n",
       "    .dataframe tbody tr th {\n",
       "        vertical-align: top;\n",
       "    }\n",
       "\n",
       "    .dataframe thead th {\n",
       "        text-align: right;\n",
       "    }\n",
       "</style>\n",
       "<table border=\"1\" class=\"dataframe\">\n",
       "  <thead>\n",
       "    <tr style=\"text-align: right;\">\n",
       "      <th></th>\n",
       "      <th>Name</th>\n",
       "      <th>Salary</th>\n",
       "      <th>Firstname</th>\n",
       "      <th>Lastname</th>\n",
       "    </tr>\n",
       "  </thead>\n",
       "  <tbody>\n",
       "    <tr>\n",
       "      <th>0</th>\n",
       "      <td>Emma Larter</td>\n",
       "      <td>3200</td>\n",
       "      <td>Emma</td>\n",
       "      <td>Larter</td>\n",
       "    </tr>\n",
       "    <tr>\n",
       "      <th>1</th>\n",
       "      <td>Mia Junior</td>\n",
       "      <td>4500</td>\n",
       "      <td>Mia</td>\n",
       "      <td>Junior</td>\n",
       "    </tr>\n",
       "    <tr>\n",
       "      <th>2</th>\n",
       "      <td>Sophia Depp</td>\n",
       "      <td>3600</td>\n",
       "      <td>Sophia</td>\n",
       "      <td>Depp</td>\n",
       "    </tr>\n",
       "    <tr>\n",
       "      <th>3</th>\n",
       "      <td>James Smith</td>\n",
       "      <td>5596</td>\n",
       "      <td>James</td>\n",
       "      <td>Smith</td>\n",
       "    </tr>\n",
       "  </tbody>\n",
       "</table>\n",
       "</div>"
      ],
      "text/plain": [
       "          Name  Salary Firstname Lastname\n",
       "0  Emma Larter    3200      Emma   Larter\n",
       "1   Mia Junior    4500       Mia   Junior\n",
       "2  Sophia Depp    3600    Sophia     Depp\n",
       "3  James Smith    5596     James    Smith"
      ]
     },
     "execution_count": 21,
     "metadata": {},
     "output_type": "execute_result"
    }
   ],
   "source": [
    "import pandas as pd\n",
    "d1={\"Name\":['Emma Larter','Mia Junior','Sophia Depp','James Smith'],\n",
    "   \"Salary\":[3200,4500,3600,5596]}\n",
    "d1=pd.DataFrame(d1)\n",
    "d1[[\"Firstname\",\"Lastname\"]]=d1.Name.str.split(expand=True)\n",
    "d1"
   ]
  },
  {
   "cell_type": "markdown",
   "metadata": {
    "id": "HR_gxOnCbroV"
   },
   "source": [
    "<table align=\"left\">\n",
    "    <tr>\n",
    "        <td width=\"6%\">\n",
    "            <img src=\"question_icon.png\">\n",
    "        </td>\n",
    "        <td>\n",
    "            <div align=\"left\", style=\"font-size:120%\">\n",
    "                <font color=\"#21618C\">\n",
    "                    <b>4. Select the rows from below dataframe where marks are less than 60 </b>\n",
    "                </font>\n",
    "            </div>\n",
    "        </td>\n",
    "    </tr>\n",
    "</table>"
   ]
  },
  {
   "cell_type": "markdown",
   "metadata": {
    "id": "psRI2T3TbroW"
   },
   "source": [
    "**Use the dataframe given below:**\n",
    "\n",
    "<table>\n",
    "<tr>\n",
    "<th>Name</th>\n",
    "<th>Marks</th>\n",
    "</tr>\n",
    "<tr>\n",
    "<td>John</td>\n",
    "<td>90</td>\n",
    "</tr>\n",
    "<tr>\n",
    "<td>Robert</td>\n",
    "<td>50</td>\n",
    "</tr>\n",
    "<tr>\n",
    "<td>Jonny</td>\n",
    "<td>89</td>\n",
    "</tr>\n",
    "<tr>\n",
    "<td>Mia</td>\n",
    "<td>55</td>\n",
    "</tr>\n",
    "   \n",
    "</table>"
   ]
  },
  {
   "cell_type": "code",
   "execution_count": 9,
   "metadata": {
    "id": "eyWyBS2a7Isk"
   },
   "outputs": [
    {
     "data": {
      "text/html": [
       "<div>\n",
       "<style scoped>\n",
       "    .dataframe tbody tr th:only-of-type {\n",
       "        vertical-align: middle;\n",
       "    }\n",
       "\n",
       "    .dataframe tbody tr th {\n",
       "        vertical-align: top;\n",
       "    }\n",
       "\n",
       "    .dataframe thead th {\n",
       "        text-align: right;\n",
       "    }\n",
       "</style>\n",
       "<table border=\"1\" class=\"dataframe\">\n",
       "  <thead>\n",
       "    <tr style=\"text-align: right;\">\n",
       "      <th></th>\n",
       "      <th>Name</th>\n",
       "      <th>Marks</th>\n",
       "    </tr>\n",
       "  </thead>\n",
       "  <tbody>\n",
       "    <tr>\n",
       "      <th>1</th>\n",
       "      <td>Robert</td>\n",
       "      <td>50</td>\n",
       "    </tr>\n",
       "    <tr>\n",
       "      <th>3</th>\n",
       "      <td>Mia</td>\n",
       "      <td>55</td>\n",
       "    </tr>\n",
       "  </tbody>\n",
       "</table>\n",
       "</div>"
      ],
      "text/plain": [
       "     Name  Marks\n",
       "1  Robert     50\n",
       "3     Mia     55"
      ]
     },
     "execution_count": 9,
     "metadata": {},
     "output_type": "execute_result"
    }
   ],
   "source": [
    "d1={\"Name\":['John','Robert','Jonny','Mia'],\n",
    "   \"Marks\":[90,50,89,55]}\n",
    "d2=pd.DataFrame(d1)\n",
    "d2[d2.Marks<60]"
   ]
  },
  {
   "cell_type": "markdown",
   "metadata": {
    "id": "z35FqMrYbroZ"
   },
   "source": [
    "<table align=\"left\">\n",
    "    <tr>\n",
    "        <td width=\"6%\">\n",
    "            <img src=\"question_icon.png\">\n",
    "        </td>\n",
    "        <td>\n",
    "            <div align=\"left\", style=\"font-size:120%\">\n",
    "                <font color=\"#21618C\">\n",
    "                    <b>5. Write a program to select the rows where the sales are higher than 60000 for Mumbai </b>\n",
    "                </font>\n",
    "            </div>\n",
    "        </td>\n",
    "    </tr>\n",
    "</table>"
   ]
  },
  {
   "cell_type": "markdown",
   "metadata": {
    "id": "pEwm6Uj4brob"
   },
   "source": [
    "**Use the dataframe given below:**\n",
    "   \n",
    "<table>\n",
    "<tr>\n",
    "<th>Store</th>\n",
    "<th>Location</th>\n",
    "<th>Sales</th>\n",
    "</tr>\n",
    "<tr>\n",
    "<td>A</td>\n",
    "<td>Mumbai</td>\n",
    "<td>40000</td>\n",
    "</tr>\n",
    "<tr>\n",
    "<td>B</td>\n",
    "<td>Pune</td>\n",
    "<td>45000</td>\n",
    "</tr>\n",
    "<tr>\n",
    "<td>A</td>\n",
    "<td>Hyderabad</td>\n",
    "<td>50000</td>\n",
    "</tr>\n",
    "<tr>\n",
    "<td>C</td>\n",
    "<td>Mumbai</td>\n",
    "<td>90000</td>\n",
    "</tr>\n",
    "<tr>\n",
    "<td>D</td>\n",
    "<td>Pune</td>\n",
    "<td>89000</td>\n",
    "</tr>\n",
    "<tr>\n",
    "<td>A</td>\n",
    "<td>Delhi</td>\n",
    "<td>87000</td>\n",
    "</tr>\n",
    "<tr>\n",
    "<td>D</td>\n",
    "<td>Hyderabad</td>\n",
    "<td>85000</td>\n",
    "</tr>\n",
    "<tr>\n",
    "<td>A</td>\n",
    "<td>Pune</td>\n",
    "<td>78000</td>\n",
    "</tr>\n",
    "<tr>\n",
    "<td>C</td>\n",
    "<td>Mumbai</td>\n",
    "<td>89000</td>\n",
    "</tr>\n",
    "<tr>\n",
    "<td>B</td>\n",
    "<td>Pune</td>\n",
    "<td>70000</td>\n",
    "</tr>\n",
    "   \n",
    "</table>"
   ]
  },
  {
   "cell_type": "code",
   "execution_count": 18,
   "metadata": {
    "id": "Z_-bcP7ibrob"
   },
   "outputs": [
    {
     "data": {
      "text/html": [
       "<div>\n",
       "<style scoped>\n",
       "    .dataframe tbody tr th:only-of-type {\n",
       "        vertical-align: middle;\n",
       "    }\n",
       "\n",
       "    .dataframe tbody tr th {\n",
       "        vertical-align: top;\n",
       "    }\n",
       "\n",
       "    .dataframe thead th {\n",
       "        text-align: right;\n",
       "    }\n",
       "</style>\n",
       "<table border=\"1\" class=\"dataframe\">\n",
       "  <thead>\n",
       "    <tr style=\"text-align: right;\">\n",
       "      <th></th>\n",
       "      <th>Store</th>\n",
       "      <th>Location</th>\n",
       "      <th>Sales</th>\n",
       "    </tr>\n",
       "  </thead>\n",
       "  <tbody>\n",
       "    <tr>\n",
       "      <th>3</th>\n",
       "      <td>C</td>\n",
       "      <td>Mumbai</td>\n",
       "      <td>90000</td>\n",
       "    </tr>\n",
       "    <tr>\n",
       "      <th>8</th>\n",
       "      <td>C</td>\n",
       "      <td>Mumbai</td>\n",
       "      <td>89000</td>\n",
       "    </tr>\n",
       "  </tbody>\n",
       "</table>\n",
       "</div>"
      ],
      "text/plain": [
       "  Store Location  Sales\n",
       "3     C   Mumbai  90000\n",
       "8     C   Mumbai  89000"
      ]
     },
     "execution_count": 18,
     "metadata": {},
     "output_type": "execute_result"
    }
   ],
   "source": [
    "d1={\"Store\":[\"A\",\"B\",\"A\",\"C\",\"D\",\"A\",\"D\",\"A\",\"C\",\"B\"],\n",
    "   \"Location\":[\"Mumbai\",\"Pune\",\"Hyderabad\",\"Mumbai\",\"Pune\",\"Delhi\",\"Hyderabad\",\"Pune\",\"Mumbai\",\"Pune\"],\n",
    "   \"Sales\":[40000,45000,50000,90000,89000,87000,85000,78000,89000,70000]}\n",
    "d2=pd.DataFrame(d1)\n",
    "d2[(d2.Sales>60000)&(d2.Location==\"Mumbai\")]\n"
   ]
  },
  {
   "cell_type": "markdown",
   "metadata": {
    "id": "_UZzFsqcbroe"
   },
   "source": [
    "<table align=\"left\">\n",
    "    <tr>\n",
    "        <td width=\"6%\">\n",
    "            <img src=\"question_icon.png\">\n",
    "        </td>\n",
    "        <td>\n",
    "            <div align=\"left\", style=\"font-size:120%\">\n",
    "                <font color=\"#21618C\">\n",
    "                    <b>6. Write a program to select stores located in Hyderabad</b>\n",
    "                </font>\n",
    "            </div>\n",
    "        </td>\n",
    "    </tr>\n",
    "</table>"
   ]
  },
  {
   "cell_type": "markdown",
   "metadata": {
    "id": "xpPd6-yxbroe"
   },
   "source": [
    "**Use the dataframe given below:**\n",
    "   \n",
    "<table>\n",
    "<tr>\n",
    "<th>Store</th>\n",
    "<th>Location</th>\n",
    "<th>Sales</th>\n",
    "</tr>\n",
    "<tr>\n",
    "<td>A</td>\n",
    "<td>Mumbai</td>\n",
    "<td>40000</td>\n",
    "</tr>\n",
    "<tr>\n",
    "<td>B</td>\n",
    "<td>Pune</td>\n",
    "<td>45000</td>\n",
    "</tr>\n",
    "<tr>\n",
    "<td>A</td>\n",
    "<td>Hyderabad</td>\n",
    "<td>50000</td>\n",
    "</tr>\n",
    "<tr>\n",
    "<td>C</td>\n",
    "<td>Mumbai</td>\n",
    "<td>90000</td>\n",
    "</tr>\n",
    "<tr>\n",
    "<td>D</td>\n",
    "<td>Pune</td>\n",
    "<td>89000</td>\n",
    "</tr>\n",
    "<tr>\n",
    "<td>A</td>\n",
    "<td>Delhi</td>\n",
    "<td>87000</td>\n",
    "</tr>\n",
    "<tr>\n",
    "<td>D</td>\n",
    "<td>Hyderabad</td>\n",
    "<td>85000</td>\n",
    "</tr>\n",
    "<tr>\n",
    "<td>A</td>\n",
    "<td>Pune</td>\n",
    "<td>78000</td>\n",
    "</tr>\n",
    "<tr>\n",
    "<td>C</td>\n",
    "<td>Mumbai</td>\n",
    "<td>89000</td>\n",
    "</tr>\n",
    "<tr>\n",
    "<td>B</td>\n",
    "<td>Pune</td>\n",
    "<td>70000</td>\n",
    "</tr>\n",
    "   \n",
    "</table>"
   ]
  },
  {
   "cell_type": "code",
   "execution_count": 42,
   "metadata": {
    "id": "S3J4OGa_brof"
   },
   "outputs": [
    {
     "data": {
      "text/plain": [
       "2    A\n",
       "6    D\n",
       "Name: Store, dtype: object"
      ]
     },
     "execution_count": 42,
     "metadata": {},
     "output_type": "execute_result"
    }
   ],
   "source": [
    "d1={\"Store\":[\"A\",\"B\",\"A\",\"C\",\"D\",\"A\",\"D\",\"A\",\"C\",\"B\"],\n",
    "   \"Location\":[\"Mumbai\",\"Pune\",\"Hyderabad\",\"Mumbai\",\"Pune\",\"Delhi\",\"Hyderabad\",\"Pune\",\"Mumbai\",\"Pune\"],\n",
    "   \"Sales\":[40000,45000,50000,90000,89000,87000,85000,78000,89000,70000]}\n",
    "d2=pd.DataFrame(d1)\n",
    "d2[d2.Location==\"Hyderabad\"][\"Store\"]\n"
   ]
  },
  {
   "cell_type": "markdown",
   "metadata": {
    "id": "MkRQWQJMbroh"
   },
   "source": [
    "<table align=\"left\">\n",
    "    <tr>\n",
    "        <td width=\"6%\">\n",
    "            <img src=\"question_icon.png\">\n",
    "        </td>\n",
    "        <td>\n",
    "            <div align=\"left\", style=\"font-size:120%\">\n",
    "                <font color=\"#21618C\">\n",
    "                    <b>7. Write a program to replace the 'Store' column with the values A, B, C, and D with Store_A,  Store_B, Store_C and Store_D respectively </b>  \n",
    "                </font>\n",
    "            </div>\n",
    "        </td>\n",
    "    </tr>\n",
    "</table>"
   ]
  },
  {
   "cell_type": "markdown",
   "metadata": {
    "id": "NjNY0QDobroh"
   },
   "source": [
    "**Use the dataframe given below:**\n",
    "   \n",
    "<table>\n",
    "<tr>\n",
    "<th>Store</th>\n",
    "<th>Location</th>\n",
    "<th>Sales</th>\n",
    "</tr>\n",
    "<tr>\n",
    "<td>A</td>\n",
    "<td>Mumbai</td>\n",
    "<td>40000</td>\n",
    "</tr>\n",
    "<tr>\n",
    "<td>B</td>\n",
    "<td>Pune</td>\n",
    "<td>45000</td>\n",
    "</tr>\n",
    "<tr>\n",
    "<td>A</td>\n",
    "<td>Hyderabad</td>\n",
    "<td>50000</td>\n",
    "</tr>\n",
    "<tr>\n",
    "<td>C</td>\n",
    "<td>Mumbai</td>\n",
    "<td>90000</td>\n",
    "</tr>\n",
    "<tr>\n",
    "<td>D</td>\n",
    "<td>Pune</td>\n",
    "<td>89000</td>\n",
    "</tr>\n",
    "<tr>\n",
    "<td>A</td>\n",
    "<td>Delhi</td>\n",
    "<td>87000</td>\n",
    "</tr>\n",
    "<tr>\n",
    "<td>D</td>\n",
    "<td>Hyderabad</td>\n",
    "<td>85000</td>\n",
    "</tr>\n",
    "<tr>\n",
    "<td>A</td>\n",
    "<td>Pune</td>\n",
    "<td>78000</td>\n",
    "</tr>\n",
    "<tr>\n",
    "<td>C</td>\n",
    "<td>Mumbai</td>\n",
    "<td>89000</td>\n",
    "</tr>\n",
    "<tr>\n",
    "<td>B</td>\n",
    "<td>Pune</td>\n",
    "<td>70000</td>\n",
    "</tr>\n",
    "   \n",
    "</table>"
   ]
  },
  {
   "cell_type": "code",
   "execution_count": 7,
   "metadata": {
    "id": "FcqGrhbobroi"
   },
   "outputs": [
    {
     "data": {
      "text/html": [
       "<div>\n",
       "<style scoped>\n",
       "    .dataframe tbody tr th:only-of-type {\n",
       "        vertical-align: middle;\n",
       "    }\n",
       "\n",
       "    .dataframe tbody tr th {\n",
       "        vertical-align: top;\n",
       "    }\n",
       "\n",
       "    .dataframe thead th {\n",
       "        text-align: right;\n",
       "    }\n",
       "</style>\n",
       "<table border=\"1\" class=\"dataframe\">\n",
       "  <thead>\n",
       "    <tr style=\"text-align: right;\">\n",
       "      <th></th>\n",
       "      <th>Store</th>\n",
       "      <th>Location</th>\n",
       "      <th>Sales</th>\n",
       "      <th>store</th>\n",
       "    </tr>\n",
       "  </thead>\n",
       "  <tbody>\n",
       "    <tr>\n",
       "      <th>0</th>\n",
       "      <td>A</td>\n",
       "      <td>Mumbai</td>\n",
       "      <td>40000</td>\n",
       "      <td>Store_A</td>\n",
       "    </tr>\n",
       "    <tr>\n",
       "      <th>1</th>\n",
       "      <td>B</td>\n",
       "      <td>Pune</td>\n",
       "      <td>45000</td>\n",
       "      <td>Store_B</td>\n",
       "    </tr>\n",
       "    <tr>\n",
       "      <th>2</th>\n",
       "      <td>A</td>\n",
       "      <td>Hyderabad</td>\n",
       "      <td>50000</td>\n",
       "      <td>Store_A</td>\n",
       "    </tr>\n",
       "    <tr>\n",
       "      <th>3</th>\n",
       "      <td>C</td>\n",
       "      <td>Mumbai</td>\n",
       "      <td>90000</td>\n",
       "      <td>Store_C</td>\n",
       "    </tr>\n",
       "    <tr>\n",
       "      <th>4</th>\n",
       "      <td>D</td>\n",
       "      <td>Pune</td>\n",
       "      <td>89000</td>\n",
       "      <td>Store_D</td>\n",
       "    </tr>\n",
       "    <tr>\n",
       "      <th>5</th>\n",
       "      <td>A</td>\n",
       "      <td>Delhi</td>\n",
       "      <td>87000</td>\n",
       "      <td>Store_A</td>\n",
       "    </tr>\n",
       "    <tr>\n",
       "      <th>6</th>\n",
       "      <td>D</td>\n",
       "      <td>Hyderabad</td>\n",
       "      <td>85000</td>\n",
       "      <td>Store_D</td>\n",
       "    </tr>\n",
       "    <tr>\n",
       "      <th>7</th>\n",
       "      <td>A</td>\n",
       "      <td>Pune</td>\n",
       "      <td>78000</td>\n",
       "      <td>Store_A</td>\n",
       "    </tr>\n",
       "    <tr>\n",
       "      <th>8</th>\n",
       "      <td>C</td>\n",
       "      <td>Mumbai</td>\n",
       "      <td>89000</td>\n",
       "      <td>Store_C</td>\n",
       "    </tr>\n",
       "    <tr>\n",
       "      <th>9</th>\n",
       "      <td>B</td>\n",
       "      <td>Pune</td>\n",
       "      <td>70000</td>\n",
       "      <td>Store_B</td>\n",
       "    </tr>\n",
       "  </tbody>\n",
       "</table>\n",
       "</div>"
      ],
      "text/plain": [
       "  Store   Location  Sales    store\n",
       "0     A     Mumbai  40000  Store_A\n",
       "1     B       Pune  45000  Store_B\n",
       "2     A  Hyderabad  50000  Store_A\n",
       "3     C     Mumbai  90000  Store_C\n",
       "4     D       Pune  89000  Store_D\n",
       "5     A      Delhi  87000  Store_A\n",
       "6     D  Hyderabad  85000  Store_D\n",
       "7     A       Pune  78000  Store_A\n",
       "8     C     Mumbai  89000  Store_C\n",
       "9     B       Pune  70000  Store_B"
      ]
     },
     "execution_count": 7,
     "metadata": {},
     "output_type": "execute_result"
    }
   ],
   "source": [
    "d1={\"Store\":[\"A\",\"B\",\"A\",\"C\",\"D\",\"A\",\"D\",\"A\",\"C\",\"B\"],\n",
    "   \"Location\":[\"Mumbai\",\"Pune\",\"Hyderabad\",\"Mumbai\",\"Pune\",\"Delhi\",\"Hyderabad\",\"Pune\",\"Mumbai\",\"Pune\"],\n",
    "   \"Sales\":[40000,45000,50000,90000,89000,87000,85000,78000,89000,70000]}\n",
    "d2=pd.DataFrame(d1)\n",
    "s={'A':'Store_A','B':'Store_B','A':'Store_A','C':'Store_C','D':'Store_D','A':'Store_A','D':'Store_D','A':'Store_A','C':'Store_C','B':'Store_B'}\n",
    "d2['store']=d2.Store.map(s)\n",
    "d2"
   ]
  },
  {
   "cell_type": "markdown",
   "metadata": {
    "id": "A_FO5JqKbrok"
   },
   "source": [
    "<table align=\"left\">\n",
    "    <tr>\n",
    "        <td width=\"6%\">\n",
    "            <img src=\"question_icon.png\">\n",
    "        </td>\n",
    "        <td>\n",
    "            <div align=\"left\", style=\"font-size:120%\">\n",
    "                <font color=\"#21618C\">\n",
    "                    <b>8. Create a dataframe in pandas using the given list.\n",
    "</b>\n",
    "                </font>\n",
    "            </div>\n",
    "        </td>\n",
    "    </tr>\n",
    "</table>"
   ]
  },
  {
   "cell_type": "markdown",
   "metadata": {
    "id": "492OEIcHbrol"
   },
   "source": [
    "**Use the below list**\n",
    "\n",
    "        city = ['Delhi', 'Mumbai', 'Chennai', 'Kolkata']"
   ]
  },
  {
   "cell_type": "code",
   "execution_count": 53,
   "metadata": {
    "id": "ujlQ0ABIbrom"
   },
   "outputs": [
    {
     "data": {
      "text/html": [
       "<div>\n",
       "<style scoped>\n",
       "    .dataframe tbody tr th:only-of-type {\n",
       "        vertical-align: middle;\n",
       "    }\n",
       "\n",
       "    .dataframe tbody tr th {\n",
       "        vertical-align: top;\n",
       "    }\n",
       "\n",
       "    .dataframe thead th {\n",
       "        text-align: right;\n",
       "    }\n",
       "</style>\n",
       "<table border=\"1\" class=\"dataframe\">\n",
       "  <thead>\n",
       "    <tr style=\"text-align: right;\">\n",
       "      <th></th>\n",
       "      <th>0</th>\n",
       "    </tr>\n",
       "  </thead>\n",
       "  <tbody>\n",
       "    <tr>\n",
       "      <th>0</th>\n",
       "      <td>Delhi</td>\n",
       "    </tr>\n",
       "    <tr>\n",
       "      <th>1</th>\n",
       "      <td>Mumbai</td>\n",
       "    </tr>\n",
       "    <tr>\n",
       "      <th>2</th>\n",
       "      <td>Chennai</td>\n",
       "    </tr>\n",
       "    <tr>\n",
       "      <th>3</th>\n",
       "      <td>Kolkata</td>\n",
       "    </tr>\n",
       "  </tbody>\n",
       "</table>\n",
       "</div>"
      ],
      "text/plain": [
       "         0\n",
       "0    Delhi\n",
       "1   Mumbai\n",
       "2  Chennai\n",
       "3  Kolkata"
      ]
     },
     "execution_count": 53,
     "metadata": {},
     "output_type": "execute_result"
    }
   ],
   "source": [
    "city = ['Delhi', 'Mumbai', 'Chennai', 'Kolkata']\n",
    "dcity=pd.DataFrame(city)\n",
    "dcity"
   ]
  },
  {
   "cell_type": "markdown",
   "metadata": {
    "id": "YaZVCuk0brop"
   },
   "source": [
    "<table align=\"left\">\n",
    "    <tr>\n",
    "        <td width=\"6%\">\n",
    "            <img src=\"question_icon.png\">\n",
    "        </td>\n",
    "        <td>\n",
    "            <div align=\"left\", style=\"font-size:120%\">\n",
    "                <font color=\"#21618C\">\n",
    "                    <b>9. Save a given dataframe to a csv file\n",
    "</b>\n",
    "                </font>\n",
    "            </div>\n",
    "        </td>\n",
    "    </tr>\n",
    "</table>"
   ]
  },
  {
   "cell_type": "markdown",
   "metadata": {
    "id": "zdG3-8djbroq"
   },
   "source": [
    "**Use the dataframe given below:**\n",
    "   \n",
    "<table>\n",
    "<tr>\n",
    "<th>Store</th>\n",
    "<th>Location</th>\n",
    "<th>Sales</th>\n",
    "</tr>\n",
    "<tr>\n",
    "<td>A</td>\n",
    "<td>Mumbai</td>\n",
    "<td>40000</td>\n",
    "</tr>\n",
    "<tr>\n",
    "<td>B</td>\n",
    "<td>Pune</td>\n",
    "<td>45000</td>\n",
    "</tr>\n",
    "<tr>\n",
    "<td>A</td>\n",
    "<td>Hyderabad</td>\n",
    "<td>50000</td>\n",
    "</tr>\n",
    "<tr>\n",
    "<td>C</td>\n",
    "<td>Mumbai</td>\n",
    "<td>90000</td>\n",
    "</tr>\n",
    "<tr>\n",
    "<td>D</td>\n",
    "<td>Pune</td>\n",
    "<td>89000</td>\n",
    "</tr>\n",
    "<tr>\n",
    "<td>A</td>\n",
    "<td>Delhi</td>\n",
    "<td>87000</td>\n",
    "</tr>\n",
    "<tr>\n",
    "<td>D</td>\n",
    "<td>Hyderabad</td>\n",
    "<td>85000</td>\n",
    "</tr>\n",
    "<tr>\n",
    "<td>A</td>\n",
    "<td>Pune</td>\n",
    "<td>78000</td>\n",
    "</tr>\n",
    "<tr>\n",
    "<td>C</td>\n",
    "<td>Mumbai</td>\n",
    "<td>89000</td>\n",
    "</tr>\n",
    "<tr>\n",
    "<td>B</td>\n",
    "<td>Pune</td>\n",
    "<td>70000</td>\n",
    "</tr>\n",
    "   \n",
    "</table>"
   ]
  },
  {
   "cell_type": "code",
   "execution_count": 54,
   "metadata": {
    "id": "LRIV0DMCbroq"
   },
   "outputs": [],
   "source": [
    "d1={\"Store\":[\"A\",\"B\",\"A\",\"C\",\"D\",\"A\",\"D\",\"A\",\"C\",\"B\"],\n",
    "   \"Location\":[\"Mumbai\",\"Pune\",\"Hyderabad\",\"Mumbai\",\"Pune\",\"Delhi\",\"Hyderabad\",\"Pune\",\"Mumbai\",\"Pune\"],\n",
    "   \"Sales\":[40000,45000,50000,90000,89000,87000,85000,78000,89000,70000]}\n",
    "d2=pd.DataFrame(d1)\n",
    "d2.to_csv('file2.csv')"
   ]
  },
  {
   "cell_type": "markdown",
   "metadata": {
    "id": "kzBS49kCbrot"
   },
   "source": [
    "<table align=\"left\">\n",
    "    <tr>\n",
    "        <td width=\"6%\">\n",
    "            <img src=\"question_icon.png\">\n",
    "        </td>\n",
    "        <td>\n",
    "            <div align=\"left\", style=\"font-size:120%\">\n",
    "                <font color=\"#21618C\">\n",
    "                    <b>10. Find the maximum sales for each store\n",
    "</b>\n",
    "                </font>\n",
    "            </div>\n",
    "        </td>\n",
    "    </tr>\n",
    "</table>"
   ]
  },
  {
   "cell_type": "markdown",
   "metadata": {
    "id": "6pTfSncBbrot"
   },
   "source": [
    "**Use the dataframe given below:**\n",
    "   \n",
    "<table>\n",
    "<tr>\n",
    "<th>Store</th>\n",
    "<th>Location</th>\n",
    "<th>Sales</th>\n",
    "</tr>\n",
    "<tr>\n",
    "<td>A</td>\n",
    "<td>Mumbai</td>\n",
    "<td>40000</td>\n",
    "</tr>\n",
    "<tr>\n",
    "<td>B</td>\n",
    "<td>Pune</td>\n",
    "<td>45000</td>\n",
    "</tr>\n",
    "<tr>\n",
    "<td>A</td>\n",
    "<td>Hyderabad</td>\n",
    "<td>50000</td>\n",
    "</tr>\n",
    "<tr>\n",
    "<td>C</td>\n",
    "<td>Mumbai</td>\n",
    "<td>90000</td>\n",
    "</tr>\n",
    "<tr>\n",
    "<td>D</td>\n",
    "<td>Pune</td>\n",
    "<td>89000</td>\n",
    "</tr>\n",
    "<tr>\n",
    "<td>A</td>\n",
    "<td>Delhi</td>\n",
    "<td>87000</td>\n",
    "</tr>\n",
    "<tr>\n",
    "<td>D</td>\n",
    "<td>Hyderabad</td>\n",
    "<td>85000</td>\n",
    "</tr>\n",
    "<tr>\n",
    "<td>A</td>\n",
    "<td>Pune</td>\n",
    "<td>78000</td>\n",
    "</tr>\n",
    "<tr>\n",
    "<td>C</td>\n",
    "<td>Mumbai</td>\n",
    "<td>89000</td>\n",
    "</tr>\n",
    "<tr>\n",
    "<td>B</td>\n",
    "<td>Pune</td>\n",
    "<td>70000</td>\n",
    "</tr>\n",
    "   \n",
    "</table>"
   ]
  },
  {
   "cell_type": "code",
   "execution_count": 12,
   "metadata": {
    "id": "-ru3CyhDbrou"
   },
   "outputs": [
    {
     "data": {
      "text/plain": [
       "Store\n",
       "A    87000\n",
       "B    70000\n",
       "C    90000\n",
       "D    89000\n",
       "Name: Sales, dtype: int64"
      ]
     },
     "execution_count": 12,
     "metadata": {},
     "output_type": "execute_result"
    }
   ],
   "source": [
    "d1={\"Store\":[\"A\",\"B\",\"A\",\"C\",\"D\",\"A\",\"D\",\"A\",\"C\",\"B\"],\n",
    "   \"Location\":[\"Mumbai\",\"Pune\",\"Hyderabad\",\"Mumbai\",\"Pune\",\"Delhi\",\"Hyderabad\",\"Pune\",\"Mumbai\",\"Pune\"],\n",
    "   \"Sales\":[40000,45000,50000,90000,89000,87000,85000,78000,89000,70000]}\n",
    "d2=pd.DataFrame(d1)\n",
    "d2.groupby(by=\"Store\")[\"Sales\"].max()"
   ]
  },
  {
   "cell_type": "markdown",
   "metadata": {
    "id": "-AeYRdcBbrow"
   },
   "source": [
    "<table align=\"left\">\n",
    "    <tr>\n",
    "        <td width=\"6%\">\n",
    "            <img src=\"question_icon.png\">\n",
    "        </td>\n",
    "        <td>\n",
    "            <div align=\"left\", style=\"font-size:120%\">\n",
    "                <font color=\"#21618C\">\n",
    "                    <b>11. Write a program to select all columns, except the 'Location' from the given dataframe\n",
    "</b>\n",
    "                </font>\n",
    "            </div>\n",
    "        </td>\n",
    "    </tr>\n",
    "</table>"
   ]
  },
  {
   "cell_type": "markdown",
   "metadata": {
    "id": "FhMe-BOlbrow"
   },
   "source": [
    "**Use the dataframe given below:**\n",
    "   \n",
    "<table>\n",
    "<tr>\n",
    "<th>Store</th>\n",
    "<th>Location</th>\n",
    "<th>Sales</th>\n",
    "</tr>\n",
    "<tr>\n",
    "<td>A</td>\n",
    "<td>Mumbai</td>\n",
    "<td>40000</td>\n",
    "</tr>\n",
    "<tr>\n",
    "<td>B</td>\n",
    "<td>Pune</td>\n",
    "<td>45000</td>\n",
    "</tr>\n",
    "<tr>\n",
    "<td>A</td>\n",
    "<td>Hyderabad</td>\n",
    "<td>50000</td>\n",
    "</tr>\n",
    "<tr>\n",
    "<td>C</td>\n",
    "<td>Mumbai</td>\n",
    "<td>90000</td>\n",
    "</tr>\n",
    "<tr>\n",
    "<td>D</td>\n",
    "<td>Pune</td>\n",
    "<td>89000</td>\n",
    "</tr>\n",
    "<tr>\n",
    "<td>A</td>\n",
    "<td>Delhi</td>\n",
    "<td>87000</td>\n",
    "</tr>\n",
    "<tr>\n",
    "<td>D</td>\n",
    "<td>Hyderabad</td>\n",
    "<td>85000</td>\n",
    "</tr>\n",
    "<tr>\n",
    "<td>A</td>\n",
    "<td>Pune</td>\n",
    "<td>78000</td>\n",
    "</tr>\n",
    "<tr>\n",
    "<td>C</td>\n",
    "<td>Mumbai</td>\n",
    "<td>89000</td>\n",
    "</tr>\n",
    "<tr>\n",
    "<td>B</td>\n",
    "<td>Pune</td>\n",
    "<td>70000</td>\n",
    "</tr>\n",
    "   \n",
    "</table>"
   ]
  },
  {
   "cell_type": "code",
   "execution_count": 65,
   "metadata": {
    "id": "VZwFNyNmbrow"
   },
   "outputs": [
    {
     "data": {
      "text/html": [
       "<div>\n",
       "<style scoped>\n",
       "    .dataframe tbody tr th:only-of-type {\n",
       "        vertical-align: middle;\n",
       "    }\n",
       "\n",
       "    .dataframe tbody tr th {\n",
       "        vertical-align: top;\n",
       "    }\n",
       "\n",
       "    .dataframe thead th {\n",
       "        text-align: right;\n",
       "    }\n",
       "</style>\n",
       "<table border=\"1\" class=\"dataframe\">\n",
       "  <thead>\n",
       "    <tr style=\"text-align: right;\">\n",
       "      <th></th>\n",
       "      <th>Store</th>\n",
       "      <th>Sales</th>\n",
       "    </tr>\n",
       "  </thead>\n",
       "  <tbody>\n",
       "    <tr>\n",
       "      <th>0</th>\n",
       "      <td>A</td>\n",
       "      <td>40000</td>\n",
       "    </tr>\n",
       "    <tr>\n",
       "      <th>1</th>\n",
       "      <td>B</td>\n",
       "      <td>45000</td>\n",
       "    </tr>\n",
       "    <tr>\n",
       "      <th>2</th>\n",
       "      <td>A</td>\n",
       "      <td>50000</td>\n",
       "    </tr>\n",
       "    <tr>\n",
       "      <th>3</th>\n",
       "      <td>C</td>\n",
       "      <td>90000</td>\n",
       "    </tr>\n",
       "    <tr>\n",
       "      <th>4</th>\n",
       "      <td>D</td>\n",
       "      <td>89000</td>\n",
       "    </tr>\n",
       "    <tr>\n",
       "      <th>5</th>\n",
       "      <td>A</td>\n",
       "      <td>87000</td>\n",
       "    </tr>\n",
       "    <tr>\n",
       "      <th>6</th>\n",
       "      <td>D</td>\n",
       "      <td>85000</td>\n",
       "    </tr>\n",
       "    <tr>\n",
       "      <th>7</th>\n",
       "      <td>A</td>\n",
       "      <td>78000</td>\n",
       "    </tr>\n",
       "    <tr>\n",
       "      <th>8</th>\n",
       "      <td>C</td>\n",
       "      <td>89000</td>\n",
       "    </tr>\n",
       "    <tr>\n",
       "      <th>9</th>\n",
       "      <td>B</td>\n",
       "      <td>70000</td>\n",
       "    </tr>\n",
       "  </tbody>\n",
       "</table>\n",
       "</div>"
      ],
      "text/plain": [
       "  Store  Sales\n",
       "0     A  40000\n",
       "1     B  45000\n",
       "2     A  50000\n",
       "3     C  90000\n",
       "4     D  89000\n",
       "5     A  87000\n",
       "6     D  85000\n",
       "7     A  78000\n",
       "8     C  89000\n",
       "9     B  70000"
      ]
     },
     "execution_count": 65,
     "metadata": {},
     "output_type": "execute_result"
    }
   ],
   "source": [
    "d1={\"Store\":[\"A\",\"B\",\"A\",\"C\",\"D\",\"A\",\"D\",\"A\",\"C\",\"B\"],\n",
    "   \"Location\":[\"Mumbai\",\"Pune\",\"Hyderabad\",\"Mumbai\",\"Pune\",\"Delhi\",\"Hyderabad\",\"Pune\",\"Mumbai\",\"Pune\"],\n",
    "   \"Sales\":[40000,45000,50000,90000,89000,87000,85000,78000,89000,70000]}\n",
    "d2=pd.DataFrame(d1)\n",
    "d2.iloc[:,[0, 2]]"
   ]
  },
  {
   "cell_type": "markdown",
   "metadata": {
    "id": "jdPQGGNbbroy"
   },
   "source": [
    "<table align=\"left\">\n",
    "    <tr>\n",
    "        <td width=\"6%\">\n",
    "            <img src=\"question_icon.png\">\n",
    "        </td>\n",
    "        <td>\n",
    "            <div align=\"left\", style=\"font-size:120%\">\n",
    "                <font color=\"#21618C\">\n",
    "                    <b>12. Write a program to insert a given column at the second position in a dataframe\n",
    "</b>\n",
    "                </font>\n",
    "            </div>\n",
    "        </td>\n",
    "    </tr>\n",
    "</table>"
   ]
  },
  {
   "cell_type": "markdown",
   "metadata": {
    "id": "eTt8takEbroz"
   },
   "source": [
    "**Use the dataframe given below:**\n",
    "\n",
    "<table>\n",
    "<tr>\n",
    "<th>Name</th>\n",
    "<th>Age</th>\n",
    "</tr>\n",
    "<tr>\n",
    "<td>Emma Larter</td>\n",
    "<td>34</td>\n",
    "</tr>\n",
    "<tr>\n",
    "<td>Mia Junior</td>\n",
    "<td>59</td>\n",
    "</tr>\n",
    "<tr>\n",
    "<td>Sophia Depp</td>\n",
    "<td>32</td>\n",
    "</tr>\n",
    "<tr>\n",
    "<td>James Smith</td>\n",
    "<td>40</td>\n",
    "</tr>\n",
    "   \n",
    "</table>\n",
    "\n",
    "**Add the variable 'Salary' as second column**<br>\n",
    "            \n",
    "            Salary = [35000, 24000, 55000, 40000]"
   ]
  },
  {
   "cell_type": "code",
   "execution_count": 14,
   "metadata": {
    "id": "SkFzhAaRbroz"
   },
   "outputs": [
    {
     "data": {
      "text/html": [
       "<div>\n",
       "<style scoped>\n",
       "    .dataframe tbody tr th:only-of-type {\n",
       "        vertical-align: middle;\n",
       "    }\n",
       "\n",
       "    .dataframe tbody tr th {\n",
       "        vertical-align: top;\n",
       "    }\n",
       "\n",
       "    .dataframe thead th {\n",
       "        text-align: right;\n",
       "    }\n",
       "</style>\n",
       "<table border=\"1\" class=\"dataframe\">\n",
       "  <thead>\n",
       "    <tr style=\"text-align: right;\">\n",
       "      <th></th>\n",
       "      <th>Name</th>\n",
       "      <th>Age</th>\n",
       "      <th>Salary</th>\n",
       "    </tr>\n",
       "  </thead>\n",
       "  <tbody>\n",
       "    <tr>\n",
       "      <th>0</th>\n",
       "      <td>Emma Larter</td>\n",
       "      <td>34</td>\n",
       "      <td>35000</td>\n",
       "    </tr>\n",
       "    <tr>\n",
       "      <th>1</th>\n",
       "      <td>Mia Junior</td>\n",
       "      <td>59</td>\n",
       "      <td>24000</td>\n",
       "    </tr>\n",
       "    <tr>\n",
       "      <th>2</th>\n",
       "      <td>Sophia Depp</td>\n",
       "      <td>32</td>\n",
       "      <td>55000</td>\n",
       "    </tr>\n",
       "    <tr>\n",
       "      <th>3</th>\n",
       "      <td>James Smith</td>\n",
       "      <td>40</td>\n",
       "      <td>40000</td>\n",
       "    </tr>\n",
       "  </tbody>\n",
       "</table>\n",
       "</div>"
      ],
      "text/plain": [
       "          Name  Age  Salary\n",
       "0  Emma Larter   34   35000\n",
       "1   Mia Junior   59   24000\n",
       "2  Sophia Depp   32   55000\n",
       "3  James Smith   40   40000"
      ]
     },
     "execution_count": 14,
     "metadata": {},
     "output_type": "execute_result"
    }
   ],
   "source": [
    "d={\"Name\":[\"Emma Larter\",\"Mia Junior\",\"Sophia Depp\",\"James Smith\"],\n",
    "  \"Age\":[34,59,32,40]}\n",
    "d1=pd.DataFrame(d)\n",
    "Salary = [35000, 24000, 55000, 40000]\n",
    "d1[\"Salary\"]=Salary\n",
    "d1"
   ]
  },
  {
   "cell_type": "markdown",
   "metadata": {
    "id": "u57xUd5cbro1"
   },
   "source": [
    "<table align=\"left\">\n",
    "    <tr>\n",
    "        <td width=\"6%\">\n",
    "            <img src=\"question_icon.png\">\n",
    "        </td>\n",
    "        <td>\n",
    "            <div align=\"left\", style=\"font-size:120%\">\n",
    "                <font color=\"#21618C\">\n",
    "                    <b>13. Write a program to get the third observation of the given dataframe\n",
    "</b>\n",
    "                </font>\n",
    "            </div>\n",
    "        </td>\n",
    "    </tr>\n",
    "</table>"
   ]
  },
  {
   "cell_type": "markdown",
   "metadata": {
    "id": "q-SX6ARYbro2"
   },
   "source": [
    "**Use the dataframe given below:**\n",
    "\n",
    "<table>\n",
    "<tr>\n",
    "<th>Name</th>\n",
    "<th>Age</th>\n",
    "</tr>\n",
    "<tr>\n",
    "<td>Emma Larter</td>\n",
    "<td>34</td>\n",
    "</tr>\n",
    "<tr>\n",
    "<td>Mia Junior</td>\n",
    "<td>59</td>\n",
    "</tr>\n",
    "<tr>\n",
    "<td>Sophia Depp</td>\n",
    "<td>32</td>\n",
    "</tr>\n",
    "<tr>\n",
    "<td>James Smith</td>\n",
    "<td>40</td>\n",
    "</tr>\n",
    "</table>    "
   ]
  },
  {
   "cell_type": "code",
   "execution_count": 72,
   "metadata": {
    "id": "mbhm0alkbro2"
   },
   "outputs": [
    {
     "data": {
      "text/plain": [
       "Name    Sophia Depp\n",
       "Age              32\n",
       "Name: 2, dtype: object"
      ]
     },
     "execution_count": 72,
     "metadata": {},
     "output_type": "execute_result"
    }
   ],
   "source": [
    "d={\"Name\":[\"Emma Larter\",\"Mia Junior\",\"Sophia Depp\",\"James Smith\"],\n",
    "  \"Age\":[34,59,32,40]}\n",
    "d1=pd.DataFrame(d)\n",
    "d1.iloc[2]"
   ]
  },
  {
   "cell_type": "markdown",
   "metadata": {
    "id": "3BSI3I2Bbro4"
   },
   "source": [
    "<table align=\"left\">\n",
    "    <tr>\n",
    "        <td width=\"6%\">\n",
    "            <img src=\"question_icon.png\">\n",
    "        </td>\n",
    "        <td>\n",
    "            <div align=\"left\", style=\"font-size:120%\">\n",
    "                <font color=\"#21618C\">\n",
    "                    <b>14. Write a program to create a dataframe from the provided lists</b>\n",
    "                </font>\n",
    "            </div>\n",
    "        </td>\n",
    "    </tr>\n",
    "</table>"
   ]
  },
  {
   "cell_type": "markdown",
   "metadata": {
    "id": "6sJVU9BKbro5"
   },
   "source": [
    "**Use the following lists to create your arrays:**\n",
    "        \n",
    "            columns = [\"Science\", \"Maths\", \"English\"]\n",
    "            \n",
    "            marks = [[55, 78, 88], [93, 63, 83],[94, 74, 64]]\n",
    "            \n",
    "**Hint:** Convert the list marks into an array           "
   ]
  },
  {
   "cell_type": "code",
   "execution_count": 4,
   "metadata": {
    "id": "i43LDErebro5"
   },
   "outputs": [
    {
     "data": {
      "text/html": [
       "<div>\n",
       "<style scoped>\n",
       "    .dataframe tbody tr th:only-of-type {\n",
       "        vertical-align: middle;\n",
       "    }\n",
       "\n",
       "    .dataframe tbody tr th {\n",
       "        vertical-align: top;\n",
       "    }\n",
       "\n",
       "    .dataframe thead th {\n",
       "        text-align: right;\n",
       "    }\n",
       "</style>\n",
       "<table border=\"1\" class=\"dataframe\">\n",
       "  <thead>\n",
       "    <tr style=\"text-align: right;\">\n",
       "      <th></th>\n",
       "      <th>0</th>\n",
       "      <th>1</th>\n",
       "      <th>2</th>\n",
       "    </tr>\n",
       "  </thead>\n",
       "  <tbody>\n",
       "    <tr>\n",
       "      <th>Science</th>\n",
       "      <td>55</td>\n",
       "      <td>78</td>\n",
       "      <td>88</td>\n",
       "    </tr>\n",
       "    <tr>\n",
       "      <th>Maths</th>\n",
       "      <td>93</td>\n",
       "      <td>63</td>\n",
       "      <td>83</td>\n",
       "    </tr>\n",
       "    <tr>\n",
       "      <th>English</th>\n",
       "      <td>94</td>\n",
       "      <td>74</td>\n",
       "      <td>64</td>\n",
       "    </tr>\n",
       "  </tbody>\n",
       "</table>\n",
       "</div>"
      ],
      "text/plain": [
       "          0   1   2\n",
       "Science  55  78  88\n",
       "Maths    93  63  83\n",
       "English  94  74  64"
      ]
     },
     "execution_count": 4,
     "metadata": {},
     "output_type": "execute_result"
    }
   ],
   "source": [
    "import numpy as np\n",
    "import pandas as pd\n",
    "columns = [\"Science\", \"Maths\", \"English\"]\n",
    "marks = [[55, 78, 88], [93, 63, 83],[94, 74, 64]]\n",
    "col=np.array(columns)\n",
    "mar=np.array(marks)\n",
    "d=pd.DataFrame(marks,columns)\n",
    "d\n",
    "\n",
    "\n",
    "\n"
   ]
  },
  {
   "cell_type": "markdown",
   "metadata": {
    "id": "lT3ns2Anbro8"
   },
   "source": [
    "<table align=\"left\">\n",
    "    <tr>\n",
    "        <td width=\"6%\">\n",
    "            <img src=\"question_icon.png\">\n",
    "        </td>\n",
    "        <td>\n",
    "            <div align=\"left\", style=\"font-size:120%\">\n",
    "                <font color=\"#21618C\">\n",
    "                    <b>15. Write a program to count total sales per store </b>\n",
    "                </font>\n",
    "            </div>\n",
    "        </td>\n",
    "    </tr>\n",
    "</table>"
   ]
  },
  {
   "cell_type": "markdown",
   "metadata": {
    "id": "JLRKaQRMbro8"
   },
   "source": [
    "**Use the dataframe given below:**\n",
    "   \n",
    "<table>\n",
    "<tr>\n",
    "<th>Store</th>\n",
    "<th>Location</th>\n",
    "<th>Sales</th>\n",
    "</tr>\n",
    "<tr>\n",
    "<td>A</td>\n",
    "<td>Mumbai</td>\n",
    "<td>40000</td>\n",
    "</tr>\n",
    "<tr>\n",
    "<td>B</td>\n",
    "<td>Pune</td>\n",
    "<td>45000</td>\n",
    "</tr>\n",
    "<tr>\n",
    "<td>A</td>\n",
    "<td>Hyderabad</td>\n",
    "<td>50000</td>\n",
    "</tr>\n",
    "<tr>\n",
    "<td>C</td>\n",
    "<td>Mumbai</td>\n",
    "<td>90000</td>\n",
    "</tr>\n",
    "<tr>\n",
    "<td>D</td>\n",
    "<td>Pune</td>\n",
    "<td>89000</td>\n",
    "</tr>\n",
    "<tr>\n",
    "<td>A</td>\n",
    "<td>Delhi</td>\n",
    "<td>87000</td>\n",
    "</tr>\n",
    "<tr>\n",
    "<td>D</td>\n",
    "<td>Hyderabad</td>\n",
    "<td>85000</td>\n",
    "</tr>\n",
    "<tr>\n",
    "<td>A</td>\n",
    "<td>Pune</td>\n",
    "<td>78000</td>\n",
    "</tr>\n",
    "<tr>\n",
    "<td>C</td>\n",
    "<td>Mumbai</td>\n",
    "<td>89000</td>\n",
    "</tr>\n",
    "<tr>\n",
    "<td>B</td>\n",
    "<td>Pune</td>\n",
    "<td>70000</td>\n",
    "</tr>\n",
    "   \n",
    "</table>"
   ]
  },
  {
   "cell_type": "code",
   "execution_count": 24,
   "metadata": {
    "id": "IOyJE8pX7Isq"
   },
   "outputs": [
    {
     "data": {
      "text/plain": [
       "Store\n",
       "A    255000\n",
       "B    115000\n",
       "C    179000\n",
       "D    174000\n",
       "Name: Sales, dtype: int64"
      ]
     },
     "execution_count": 24,
     "metadata": {},
     "output_type": "execute_result"
    }
   ],
   "source": [
    "import numpy as np\n",
    "d1={\"Store\":[\"A\",\"B\",\"A\",\"C\",\"D\",\"A\",\"D\",\"A\",\"C\",\"B\"],\n",
    "   \"Location\":[\"Mumbai\",\"Pune\",\"Hyderabad\",\"Mumbai\",\"Pune\",\"Delhi\",\"Hyderabad\",\"Pune\",\"Mumbai\",\"Pune\"],\n",
    "   \"Sales\":[40000,45000,50000,90000,89000,87000,85000,78000,89000,70000]}\n",
    "d2=pd.DataFrame(d1)\n",
    "d2.groupby(by=\"Store\")[\"Sales\"].sum()"
   ]
  },
  {
   "cell_type": "markdown",
   "metadata": {
    "id": "MczOZRuhbrpB"
   },
   "source": [
    "<a id='sorting'></a>\n",
    "## 3. Sort"
   ]
  },
  {
   "cell_type": "markdown",
   "metadata": {
    "id": "5t-wNWrlbrpC"
   },
   "source": [
    "<table align=\"left\">\n",
    "    <tr>\n",
    "        <td width=\"6%\">\n",
    "            <img src=\"question_icon.png\">\n",
    "        </td>\n",
    "        <td>\n",
    "            <div align=\"left\", style=\"font-size:120%\">\n",
    "                <font color=\"#21618C\">\n",
    "                    <b>16. Write a program to sort the dataframe by 'Sales' in ascending order\n",
    "</b>\n",
    "                </font>\n",
    "            </div>\n",
    "        </td>\n",
    "    </tr>\n",
    "</table>"
   ]
  },
  {
   "cell_type": "markdown",
   "metadata": {
    "id": "PKqI6PuFbrpC"
   },
   "source": [
    "**Use the dataframe given below:**\n",
    "   \n",
    "<table>\n",
    "<tr>\n",
    "<th>Store</th>\n",
    "<th>Location</th>\n",
    "<th>Sales</th>\n",
    "</tr>\n",
    "<tr>\n",
    "<td>A</td>\n",
    "<td>Mumbai</td>\n",
    "<td>40000</td>\n",
    "</tr>\n",
    "<tr>\n",
    "<td>B</td>\n",
    "<td>Pune</td>\n",
    "<td>45000</td>\n",
    "</tr>\n",
    "<tr>\n",
    "<td>A</td>\n",
    "<td>Hyderabad</td>\n",
    "<td>50000</td>\n",
    "</tr>\n",
    "<tr>\n",
    "<td>C</td>\n",
    "<td>Mumbai</td>\n",
    "<td>90000</td>\n",
    "</tr>\n",
    "<tr>\n",
    "<td>D</td>\n",
    "<td>Pune</td>\n",
    "<td>89000</td>\n",
    "</tr>\n",
    "<tr>\n",
    "<td>A</td>\n",
    "<td>Delhi</td>\n",
    "<td>87000</td>\n",
    "</tr>\n",
    "<tr>\n",
    "<td>D</td>\n",
    "<td>Hyderabad</td>\n",
    "<td>85000</td>\n",
    "</tr>\n",
    "<tr>\n",
    "<td>A</td>\n",
    "<td>Pune</td>\n",
    "<td>78000</td>\n",
    "</tr>\n",
    "<tr>\n",
    "<td>C</td>\n",
    "<td>Mumbai</td>\n",
    "<td>89000</td>\n",
    "</tr>\n",
    "<tr>\n",
    "<td>B</td>\n",
    "<td>Pune</td>\n",
    "<td>70000</td>\n",
    "</tr>\n",
    "   \n",
    "</table>"
   ]
  },
  {
   "cell_type": "code",
   "execution_count": 95,
   "metadata": {
    "id": "LtDTGRxA7Isr"
   },
   "outputs": [
    {
     "data": {
      "text/html": [
       "<div>\n",
       "<style scoped>\n",
       "    .dataframe tbody tr th:only-of-type {\n",
       "        vertical-align: middle;\n",
       "    }\n",
       "\n",
       "    .dataframe tbody tr th {\n",
       "        vertical-align: top;\n",
       "    }\n",
       "\n",
       "    .dataframe thead th {\n",
       "        text-align: right;\n",
       "    }\n",
       "</style>\n",
       "<table border=\"1\" class=\"dataframe\">\n",
       "  <thead>\n",
       "    <tr style=\"text-align: right;\">\n",
       "      <th></th>\n",
       "      <th>Store</th>\n",
       "      <th>Location</th>\n",
       "      <th>Sales</th>\n",
       "    </tr>\n",
       "  </thead>\n",
       "  <tbody>\n",
       "    <tr>\n",
       "      <th>0</th>\n",
       "      <td>A</td>\n",
       "      <td>Mumbai</td>\n",
       "      <td>40000</td>\n",
       "    </tr>\n",
       "    <tr>\n",
       "      <th>1</th>\n",
       "      <td>B</td>\n",
       "      <td>Pune</td>\n",
       "      <td>45000</td>\n",
       "    </tr>\n",
       "    <tr>\n",
       "      <th>2</th>\n",
       "      <td>A</td>\n",
       "      <td>Hyderabad</td>\n",
       "      <td>50000</td>\n",
       "    </tr>\n",
       "    <tr>\n",
       "      <th>9</th>\n",
       "      <td>B</td>\n",
       "      <td>Pune</td>\n",
       "      <td>70000</td>\n",
       "    </tr>\n",
       "    <tr>\n",
       "      <th>7</th>\n",
       "      <td>A</td>\n",
       "      <td>Pune</td>\n",
       "      <td>78000</td>\n",
       "    </tr>\n",
       "    <tr>\n",
       "      <th>6</th>\n",
       "      <td>D</td>\n",
       "      <td>Hyderabad</td>\n",
       "      <td>85000</td>\n",
       "    </tr>\n",
       "    <tr>\n",
       "      <th>5</th>\n",
       "      <td>A</td>\n",
       "      <td>Delhi</td>\n",
       "      <td>87000</td>\n",
       "    </tr>\n",
       "    <tr>\n",
       "      <th>4</th>\n",
       "      <td>D</td>\n",
       "      <td>Pune</td>\n",
       "      <td>89000</td>\n",
       "    </tr>\n",
       "    <tr>\n",
       "      <th>8</th>\n",
       "      <td>C</td>\n",
       "      <td>Mumbai</td>\n",
       "      <td>89000</td>\n",
       "    </tr>\n",
       "    <tr>\n",
       "      <th>3</th>\n",
       "      <td>C</td>\n",
       "      <td>Mumbai</td>\n",
       "      <td>90000</td>\n",
       "    </tr>\n",
       "  </tbody>\n",
       "</table>\n",
       "</div>"
      ],
      "text/plain": [
       "  Store   Location  Sales\n",
       "0     A     Mumbai  40000\n",
       "1     B       Pune  45000\n",
       "2     A  Hyderabad  50000\n",
       "9     B       Pune  70000\n",
       "7     A       Pune  78000\n",
       "6     D  Hyderabad  85000\n",
       "5     A      Delhi  87000\n",
       "4     D       Pune  89000\n",
       "8     C     Mumbai  89000\n",
       "3     C     Mumbai  90000"
      ]
     },
     "execution_count": 95,
     "metadata": {},
     "output_type": "execute_result"
    }
   ],
   "source": [
    "d1={\"Store\":[\"A\",\"B\",\"A\",\"C\",\"D\",\"A\",\"D\",\"A\",\"C\",\"B\"],\n",
    "   \"Location\":[\"Mumbai\",\"Pune\",\"Hyderabad\",\"Mumbai\",\"Pune\",\"Delhi\",\"Hyderabad\",\"Pune\",\"Mumbai\",\"Pune\"],\n",
    "   \"Sales\":[40000,45000,50000,90000,89000,87000,85000,78000,89000,70000]}\n",
    "d2=pd.DataFrame(d1)\n",
    "d2.sort_values(by=\"Sales\",ascending=True)"
   ]
  },
  {
   "cell_type": "markdown",
   "metadata": {
    "id": "7ti1ghjLbrpG"
   },
   "source": [
    "<table align=\"left\">\n",
    "    <tr>\n",
    "        <td width=\"6%\">\n",
    "            <img src=\"question_icon.png\">\n",
    "        </td>\n",
    "        <td>\n",
    "            <div align=\"left\", style=\"font-size:120%\">\n",
    "                <font color=\"#21618C\">\n",
    "                    <b>17. Write a program to sort the dataframe by 'Store' in ascending order and by 'Sales' in descending order with respect to store simultaneously\n",
    "</b>\n",
    "                </font>\n",
    "            </div>\n",
    "        </td>\n",
    "    </tr>\n",
    "</table>"
   ]
  },
  {
   "cell_type": "markdown",
   "metadata": {
    "id": "cGyakcEdbrpG"
   },
   "source": [
    "**Use the dataframe given below:**\n",
    "   \n",
    "<table>\n",
    "<tr>\n",
    "<th>Store</th>\n",
    "<th>Location</th>\n",
    "<th>Sales</th>\n",
    "</tr>\n",
    "<tr>\n",
    "<td>A</td>\n",
    "<td>Mumbai</td>\n",
    "<td>40000</td>\n",
    "</tr>\n",
    "<tr>\n",
    "<td>B</td>\n",
    "<td>Pune</td>\n",
    "<td>45000</td>\n",
    "</tr>\n",
    "<tr>\n",
    "<td>A</td>\n",
    "<td>Hyderabad</td>\n",
    "<td>50000</td>\n",
    "</tr>\n",
    "<tr>\n",
    "<td>C</td>\n",
    "<td>Mumbai</td>\n",
    "<td>90000</td>\n",
    "</tr>\n",
    "<tr>\n",
    "<td>D</td>\n",
    "<td>Pune</td>\n",
    "<td>89000</td>\n",
    "</tr>\n",
    "<tr>\n",
    "<td>A</td>\n",
    "<td>Delhi</td>\n",
    "<td>87000</td>\n",
    "</tr>\n",
    "<tr>\n",
    "<td>D</td>\n",
    "<td>Hyderabad</td>\n",
    "<td>85000</td>\n",
    "</tr>\n",
    "<tr>\n",
    "<td>A</td>\n",
    "<td>Pune</td>\n",
    "<td>78000</td>\n",
    "</tr>\n",
    "<tr>\n",
    "<td>C</td>\n",
    "<td>Mumbai</td>\n",
    "<td>89000</td>\n",
    "</tr>\n",
    "<tr>\n",
    "<td>B</td>\n",
    "<td>Pune</td>\n",
    "<td>70000</td>\n",
    "</tr>\n",
    "   \n",
    "</table>"
   ]
  },
  {
   "cell_type": "code",
   "execution_count": 25,
   "metadata": {
    "id": "tdCkIYaXbrpG"
   },
   "outputs": [
    {
     "data": {
      "text/html": [
       "<div>\n",
       "<style scoped>\n",
       "    .dataframe tbody tr th:only-of-type {\n",
       "        vertical-align: middle;\n",
       "    }\n",
       "\n",
       "    .dataframe tbody tr th {\n",
       "        vertical-align: top;\n",
       "    }\n",
       "\n",
       "    .dataframe thead th {\n",
       "        text-align: right;\n",
       "    }\n",
       "</style>\n",
       "<table border=\"1\" class=\"dataframe\">\n",
       "  <thead>\n",
       "    <tr style=\"text-align: right;\">\n",
       "      <th></th>\n",
       "      <th>Store</th>\n",
       "      <th>Location</th>\n",
       "      <th>Sales</th>\n",
       "    </tr>\n",
       "  </thead>\n",
       "  <tbody>\n",
       "    <tr>\n",
       "      <th>5</th>\n",
       "      <td>A</td>\n",
       "      <td>Delhi</td>\n",
       "      <td>87000</td>\n",
       "    </tr>\n",
       "    <tr>\n",
       "      <th>7</th>\n",
       "      <td>A</td>\n",
       "      <td>Pune</td>\n",
       "      <td>78000</td>\n",
       "    </tr>\n",
       "    <tr>\n",
       "      <th>2</th>\n",
       "      <td>A</td>\n",
       "      <td>Hyderabad</td>\n",
       "      <td>50000</td>\n",
       "    </tr>\n",
       "    <tr>\n",
       "      <th>0</th>\n",
       "      <td>A</td>\n",
       "      <td>Mumbai</td>\n",
       "      <td>40000</td>\n",
       "    </tr>\n",
       "    <tr>\n",
       "      <th>9</th>\n",
       "      <td>B</td>\n",
       "      <td>Pune</td>\n",
       "      <td>70000</td>\n",
       "    </tr>\n",
       "    <tr>\n",
       "      <th>1</th>\n",
       "      <td>B</td>\n",
       "      <td>Pune</td>\n",
       "      <td>45000</td>\n",
       "    </tr>\n",
       "    <tr>\n",
       "      <th>3</th>\n",
       "      <td>C</td>\n",
       "      <td>Mumbai</td>\n",
       "      <td>90000</td>\n",
       "    </tr>\n",
       "    <tr>\n",
       "      <th>8</th>\n",
       "      <td>C</td>\n",
       "      <td>Mumbai</td>\n",
       "      <td>89000</td>\n",
       "    </tr>\n",
       "    <tr>\n",
       "      <th>4</th>\n",
       "      <td>D</td>\n",
       "      <td>Pune</td>\n",
       "      <td>89000</td>\n",
       "    </tr>\n",
       "    <tr>\n",
       "      <th>6</th>\n",
       "      <td>D</td>\n",
       "      <td>Hyderabad</td>\n",
       "      <td>85000</td>\n",
       "    </tr>\n",
       "  </tbody>\n",
       "</table>\n",
       "</div>"
      ],
      "text/plain": [
       "  Store   Location  Sales\n",
       "5     A      Delhi  87000\n",
       "7     A       Pune  78000\n",
       "2     A  Hyderabad  50000\n",
       "0     A     Mumbai  40000\n",
       "9     B       Pune  70000\n",
       "1     B       Pune  45000\n",
       "3     C     Mumbai  90000\n",
       "8     C     Mumbai  89000\n",
       "4     D       Pune  89000\n",
       "6     D  Hyderabad  85000"
      ]
     },
     "execution_count": 25,
     "metadata": {},
     "output_type": "execute_result"
    }
   ],
   "source": [
    "d1={\"Store\":[\"A\",\"B\",\"A\",\"C\",\"D\",\"A\",\"D\",\"A\",\"C\",\"B\"],\n",
    "   \"Location\":[\"Mumbai\",\"Pune\",\"Hyderabad\",\"Mumbai\",\"Pune\",\"Delhi\",\"Hyderabad\",\"Pune\",\"Mumbai\",\"Pune\"],\n",
    "   \"Sales\":[40000,45000,50000,90000,89000,87000,85000,78000,89000,70000]}\n",
    "d2=pd.DataFrame(d1)\n",
    "d2.sort_values(by=[\"Store\",\"Sales\"],ascending=[True,False])"
   ]
  },
  {
   "cell_type": "markdown",
   "metadata": {
    "id": "6ISK8C4nbrpI"
   },
   "source": [
    "<a id='ranking'></a>\n",
    "## 4. Rank"
   ]
  },
  {
   "cell_type": "markdown",
   "metadata": {
    "id": "Vk0X5xxqbrpJ"
   },
   "source": [
    "<table align=\"left\">\n",
    "    <tr>\n",
    "        <td width=\"6%\">\n",
    "            <img src=\"question_icon.png\">\n",
    "        </td>\n",
    "        <td>\n",
    "            <div align=\"left\", style=\"font-size:120%\">\n",
    "                <font color=\"#21618C\">\n",
    "                    <b>18. Create a column 'Rank_sales' which contains the rank of each store based on sales of the product in ascending order\n",
    "</b>\n",
    "                </font>\n",
    "            </div>\n",
    "        </td>\n",
    "    </tr>\n",
    "</table>"
   ]
  },
  {
   "cell_type": "markdown",
   "metadata": {
    "id": "7O5czmbmbrpJ"
   },
   "source": [
    "**Use the dataframe given below:**\n",
    "   \n",
    "<table>\n",
    "<tr>\n",
    "<th>Store</th>\n",
    "<th>Location</th>\n",
    "<th>Sales</th>\n",
    "</tr>\n",
    "<tr>\n",
    "<td>A</td>\n",
    "<td>Mumbai</td>\n",
    "<td>40000</td>\n",
    "</tr>\n",
    "<tr>\n",
    "<td>B</td>\n",
    "<td>Pune</td>\n",
    "<td>45000</td>\n",
    "</tr>\n",
    "<tr>\n",
    "<td>A</td>\n",
    "<td>Hyderabad</td>\n",
    "<td>50000</td>\n",
    "</tr>\n",
    "<tr>\n",
    "<td>C</td>\n",
    "<td>Mumbai</td>\n",
    "<td>90000</td>\n",
    "</tr>\n",
    "<tr>\n",
    "<td>D</td>\n",
    "<td>Pune</td>\n",
    "<td>89000</td>\n",
    "</tr>\n",
    "<tr>\n",
    "<td>A</td>\n",
    "<td>Delhi</td>\n",
    "<td>87000</td>\n",
    "</tr>\n",
    "<tr>\n",
    "<td>D</td>\n",
    "<td>Hyderabad</td>\n",
    "<td>85000</td>\n",
    "</tr>\n",
    "<tr>\n",
    "<td>A</td>\n",
    "<td>Pune</td>\n",
    "<td>78000</td>\n",
    "</tr>\n",
    "<tr>\n",
    "<td>C</td>\n",
    "<td>Mumbai</td>\n",
    "<td>89000</td>\n",
    "</tr>\n",
    "<tr>\n",
    "<td>B</td>\n",
    "<td>Pune</td>\n",
    "<td>70000</td>\n",
    "</tr>\n",
    "   \n",
    "</table>"
   ]
  },
  {
   "cell_type": "code",
   "execution_count": 16,
   "metadata": {
    "id": "8Crt7wH6brpJ"
   },
   "outputs": [
    {
     "data": {
      "text/html": [
       "<div>\n",
       "<style scoped>\n",
       "    .dataframe tbody tr th:only-of-type {\n",
       "        vertical-align: middle;\n",
       "    }\n",
       "\n",
       "    .dataframe tbody tr th {\n",
       "        vertical-align: top;\n",
       "    }\n",
       "\n",
       "    .dataframe thead th {\n",
       "        text-align: right;\n",
       "    }\n",
       "</style>\n",
       "<table border=\"1\" class=\"dataframe\">\n",
       "  <thead>\n",
       "    <tr style=\"text-align: right;\">\n",
       "      <th></th>\n",
       "      <th>Store</th>\n",
       "      <th>Location</th>\n",
       "      <th>Sales</th>\n",
       "      <th>Rank_sales</th>\n",
       "    </tr>\n",
       "  </thead>\n",
       "  <tbody>\n",
       "    <tr>\n",
       "      <th>0</th>\n",
       "      <td>A</td>\n",
       "      <td>Mumbai</td>\n",
       "      <td>40000</td>\n",
       "      <td>1.0</td>\n",
       "    </tr>\n",
       "    <tr>\n",
       "      <th>1</th>\n",
       "      <td>B</td>\n",
       "      <td>Pune</td>\n",
       "      <td>45000</td>\n",
       "      <td>2.0</td>\n",
       "    </tr>\n",
       "    <tr>\n",
       "      <th>2</th>\n",
       "      <td>A</td>\n",
       "      <td>Hyderabad</td>\n",
       "      <td>50000</td>\n",
       "      <td>3.0</td>\n",
       "    </tr>\n",
       "    <tr>\n",
       "      <th>3</th>\n",
       "      <td>C</td>\n",
       "      <td>Mumbai</td>\n",
       "      <td>90000</td>\n",
       "      <td>10.0</td>\n",
       "    </tr>\n",
       "    <tr>\n",
       "      <th>4</th>\n",
       "      <td>D</td>\n",
       "      <td>Pune</td>\n",
       "      <td>89000</td>\n",
       "      <td>8.5</td>\n",
       "    </tr>\n",
       "    <tr>\n",
       "      <th>5</th>\n",
       "      <td>A</td>\n",
       "      <td>Delhi</td>\n",
       "      <td>87000</td>\n",
       "      <td>7.0</td>\n",
       "    </tr>\n",
       "    <tr>\n",
       "      <th>6</th>\n",
       "      <td>D</td>\n",
       "      <td>Hyderabad</td>\n",
       "      <td>85000</td>\n",
       "      <td>6.0</td>\n",
       "    </tr>\n",
       "    <tr>\n",
       "      <th>7</th>\n",
       "      <td>A</td>\n",
       "      <td>Pune</td>\n",
       "      <td>78000</td>\n",
       "      <td>5.0</td>\n",
       "    </tr>\n",
       "    <tr>\n",
       "      <th>8</th>\n",
       "      <td>C</td>\n",
       "      <td>Mumbai</td>\n",
       "      <td>89000</td>\n",
       "      <td>8.5</td>\n",
       "    </tr>\n",
       "    <tr>\n",
       "      <th>9</th>\n",
       "      <td>B</td>\n",
       "      <td>Pune</td>\n",
       "      <td>70000</td>\n",
       "      <td>4.0</td>\n",
       "    </tr>\n",
       "  </tbody>\n",
       "</table>\n",
       "</div>"
      ],
      "text/plain": [
       "  Store   Location  Sales  Rank_sales\n",
       "0     A     Mumbai  40000         1.0\n",
       "1     B       Pune  45000         2.0\n",
       "2     A  Hyderabad  50000         3.0\n",
       "3     C     Mumbai  90000        10.0\n",
       "4     D       Pune  89000         8.5\n",
       "5     A      Delhi  87000         7.0\n",
       "6     D  Hyderabad  85000         6.0\n",
       "7     A       Pune  78000         5.0\n",
       "8     C     Mumbai  89000         8.5\n",
       "9     B       Pune  70000         4.0"
      ]
     },
     "execution_count": 16,
     "metadata": {},
     "output_type": "execute_result"
    }
   ],
   "source": [
    "d1={\"Store\":[\"A\",\"B\",\"A\",\"C\",\"D\",\"A\",\"D\",\"A\",\"C\",\"B\"],\n",
    "   \"Location\":[\"Mumbai\",\"Pune\",\"Hyderabad\",\"Mumbai\",\"Pune\",\"Delhi\",\"Hyderabad\",\"Pune\",\"Mumbai\",\"Pune\"],\n",
    "   \"Sales\":[40000,45000,50000,90000,89000,87000,85000,78000,89000,70000]}\n",
    "d2=pd.DataFrame(d1)\n",
    "d2[\"Rank_sales\"]=d2[\"Sales\"].rank(ascending=True)\n",
    "d2"
   ]
  },
  {
   "cell_type": "code",
   "execution_count": null,
   "metadata": {},
   "outputs": [],
   "source": []
  }
 ],
 "metadata": {
  "colab": {
   "collapsed_sections": [
    "MczOZRuhbrpB",
    "6ISK8C4nbrpI"
   ],
   "name": "NPV-Day 2_IC Exercise-Questions.ipynb",
   "provenance": []
  },
  "kernelspec": {
   "display_name": "Python 3 (ipykernel)",
   "language": "python",
   "name": "python3"
  },
  "language_info": {
   "codemirror_mode": {
    "name": "ipython",
    "version": 3
   },
   "file_extension": ".py",
   "mimetype": "text/x-python",
   "name": "python",
   "nbconvert_exporter": "python",
   "pygments_lexer": "ipython3",
   "version": "3.9.12"
  }
 },
 "nbformat": 4,
 "nbformat_minor": 1
}
